{
 "cells": [
  {
   "cell_type": "code",
   "execution_count": 8,
   "metadata": {},
   "outputs": [],
   "source": [
    "import pandas as pd\n",
    "import numpy as np\n",
    "\n",
    "import matplotlib.pyplot as plt\n",
    "import seaborn as sns\n",
    "sns.set()"
   ]
  },
  {
   "cell_type": "code",
   "execution_count": 4,
   "metadata": {},
   "outputs": [
    {
     "data": {
      "text/html": [
       "<div>\n",
       "<style scoped>\n",
       "    .dataframe tbody tr th:only-of-type {\n",
       "        vertical-align: middle;\n",
       "    }\n",
       "\n",
       "    .dataframe tbody tr th {\n",
       "        vertical-align: top;\n",
       "    }\n",
       "\n",
       "    .dataframe thead th {\n",
       "        text-align: right;\n",
       "    }\n",
       "</style>\n",
       "<table border=\"1\" class=\"dataframe\">\n",
       "  <thead>\n",
       "    <tr style=\"text-align: right;\">\n",
       "      <th></th>\n",
       "      <th>NUSP</th>\n",
       "      <th>Nome</th>\n",
       "      <th>Media</th>\n",
       "      <th>Semestre</th>\n",
       "      <th>Creditos_Acumulados</th>\n",
       "    </tr>\n",
       "  </thead>\n",
       "  <tbody>\n",
       "    <tr>\n",
       "      <td>0</td>\n",
       "      <td>9953705</td>\n",
       "      <td>Adolfo Jatobá</td>\n",
       "      <td>6.73</td>\n",
       "      <td>2</td>\n",
       "      <td>50</td>\n",
       "    </tr>\n",
       "    <tr>\n",
       "      <td>1</td>\n",
       "      <td>8887756</td>\n",
       "      <td>Adolfo Jatobá</td>\n",
       "      <td>7.33</td>\n",
       "      <td>1</td>\n",
       "      <td>101</td>\n",
       "    </tr>\n",
       "    <tr>\n",
       "      <td>2</td>\n",
       "      <td>8988328</td>\n",
       "      <td>Vanessa Peripolli</td>\n",
       "      <td>8.43</td>\n",
       "      <td>5</td>\n",
       "      <td>17</td>\n",
       "    </tr>\n",
       "    <tr>\n",
       "      <td>3</td>\n",
       "      <td>8860724</td>\n",
       "      <td>Fabiana Moreira</td>\n",
       "      <td>5.60</td>\n",
       "      <td>6</td>\n",
       "      <td>60</td>\n",
       "    </tr>\n",
       "    <tr>\n",
       "      <td>4</td>\n",
       "      <td>8706753</td>\n",
       "      <td>Morgana Scheller</td>\n",
       "      <td>9.13</td>\n",
       "      <td>1</td>\n",
       "      <td>150</td>\n",
       "    </tr>\n",
       "  </tbody>\n",
       "</table>\n",
       "</div>"
      ],
      "text/plain": [
       "      NUSP               Nome  Media  Semestre  Creditos_Acumulados\n",
       "0  9953705      Adolfo Jatobá   6.73         2                   50\n",
       "1  8887756      Adolfo Jatobá   7.33         1                  101\n",
       "2  8988328  Vanessa Peripolli   8.43         5                   17\n",
       "3  8860724    Fabiana Moreira   5.60         6                   60\n",
       "4  8706753   Morgana Scheller   9.13         1                  150"
      ]
     },
     "execution_count": 4,
     "metadata": {},
     "output_type": "execute_result"
    }
   ],
   "source": [
    "df = pd.read_csv(\"students.csv\")\n",
    "df.head()"
   ]
  },
  {
   "cell_type": "code",
   "execution_count": 86,
   "metadata": {},
   "outputs": [],
   "source": [
    "temp = df.iloc[1:4].copy(deep=True)\n",
    "mapping = temp[\"NUSP\"].astype(str) + \" - \"\n",
    "mapping += temp[\"Nome\"]"
   ]
  },
  {
   "cell_type": "code",
   "execution_count": 101,
   "metadata": {},
   "outputs": [
    {
     "data": {
      "image/png": "[encoded data removed]",
      "text/plain": [
       "<Figure size 864x576 with 2 Axes>"
      ]
     },
     "metadata": {},
     "output_type": "display_data"
    }
   ],
   "source": [
    "plt.figure(figsize=(12, 8))\n",
    "plt.subplot(1,2,1)\n",
    "sns.barplot(y=temp[\"Media\"], x=temp[\"NUSP\"])\n",
    "plt.legend(mapping, bbox_to_anchor=(0.09, 1.02, 2.2, .102), loc=2,\n",
    "               ncol=4, mode=\"expand\", borderaxespad=0)\n",
    "\n",
    "plt.title(\"Classificação por nota\")\n",
    "\n",
    "plt.subplot(1,2,2)\n",
    "sns.barplot(y=temp[\"Creditos_Acumulados\"], x=temp[\"NUSP\"])\n",
    "plt.subplots_adjust(wspace=0.5)\n",
    "\n",
    "plt.title(\"Classificação por créditos acumulados\")\n",
    "plt.savefig(\"estudantes_classificacao.png\")"
   ]
  },
  {
   "cell_type": "code",
   "execution_count": null,
   "metadata": {},
   "outputs": [],
   "source": []
  }
 ],
 "metadata": {
  "kernelspec": {
   "display_name": "Python 3",
   "language": "python",
   "name": "python3"
  },
  "language_info": {
   "codemirror_mode": {
    "name": "ipython",
    "version": 3
   },
   "file_extension": ".py",
   "mimetype": "text/x-python",
   "name": "python",
   "nbconvert_exporter": "python",
   "pygments_lexer": "ipython3",
   "version": "3.6.8"
  }
 },
 "nbformat": 4,
 "nbformat_minor": 2
}
